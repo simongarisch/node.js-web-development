{
 "cells": [
  {
   "cell_type": "markdown",
   "metadata": {},
   "source": [
    "## Node.js Modules\n",
    "Modules and packages are the building blocks for breaking down your application into smaller pieces."
   ]
  },
  {
   "cell_type": "markdown",
   "metadata": {
    "collapsed": true
   },
   "source": [
    "## Defining a module\n",
    "A Node.js module encapsulates functions, hiding details inside a well-protected container, and exposing an explicitly declared list of functions."
   ]
  },
  {
   "cell_type": "code",
   "execution_count": 1,
   "metadata": {
    "collapsed": true
   },
   "outputs": [],
   "source": [
    "var fs = require('fs');"
   ]
  },
  {
   "cell_type": "markdown",
   "metadata": {},
   "source": [
    "The require function searches for modules, loading the module definition into the Node.js runtime, and makes its functions available."
   ]
  },
  {
   "cell_type": "code",
   "execution_count": 1,
   "metadata": {
    "collapsed": true
   },
   "outputs": [],
   "source": [
    "# using the jupyter python kernel suppose that we write a test file using python\n",
    "import os\n",
    "\n",
    "fileName = \"testModules.js\"\n",
    "if os.path.isfile(fileName):\n",
    "    os.remove(fileName)\n",
    "    \n",
    "code = \"\"\"\n",
    "var count = 0;\n",
    "exports.next = function() { return count++; };\n",
    "\"\"\"\n",
    "\n",
    "with open(fileName, \"w\") as f:\n",
    "    f.write(code)"
   ]
  },
  {
   "cell_type": "code",
   "execution_count": 2,
   "metadata": {},
   "outputs": [
    {
     "data": {
      "text/plain": [
       "True"
      ]
     },
     "execution_count": 2,
     "metadata": {},
     "output_type": "execute_result"
    }
   ],
   "source": [
    "os.path.isfile(fileName)"
   ]
  },
  {
   "cell_type": "code",
   "execution_count": 1,
   "metadata": {
    "collapsed": true
   },
   "outputs": [],
   "source": [
    "// back to the javascript kernel\n",
    "var t = require(\"./testModules.js\");"
   ]
  },
  {
   "cell_type": "code",
   "execution_count": 2,
   "metadata": {},
   "outputs": [
    {
     "data": {
      "text/plain": [
       "0"
      ]
     },
     "execution_count": 2,
     "metadata": {},
     "output_type": "execute_result"
    }
   ],
   "source": [
    "t.next() // the next function is exposed. but not the count variable"
   ]
  },
  {
   "cell_type": "code",
   "execution_count": 3,
   "metadata": {},
   "outputs": [
    {
     "data": {
      "text/plain": [
       "1"
      ]
     },
     "execution_count": 3,
     "metadata": {},
     "output_type": "execute_result"
    }
   ],
   "source": [
    "t.next()"
   ]
  },
  {
   "cell_type": "code",
   "execution_count": 4,
   "metadata": {},
   "outputs": [
    {
     "data": {
      "text/plain": [
       "2"
      ]
     },
     "execution_count": 4,
     "metadata": {},
     "output_type": "execute_result"
    }
   ],
   "source": [
    "t.next()"
   ]
  },
  {
   "cell_type": "code",
   "execution_count": 6,
   "metadata": {},
   "outputs": [
    {
     "name": "stdout",
     "output_type": "stream",
     "text": [
      "undefined\n"
     ]
    }
   ],
   "source": [
    "console.log(t.count)"
   ]
  },
  {
   "cell_type": "markdown",
   "metadata": {},
   "source": [
    "Anything (functions or objects) assigned as a field of exports is available to other code outside the module. Objects not assigned to exports are not available."
   ]
  },
  {
   "cell_type": "markdown",
   "metadata": {},
   "source": [
    "## Node.js module format\n",
    "In the long run, the Node.js community will face a choice once compatibility with ES2015 modules comes about. It will be extremely important for the require function to support both CommonJS style Node.js modules and ES2015 modules. The specifics for doing so are under discussion."
   ]
  },
  {
   "cell_type": "markdown",
   "metadata": {
    "collapsed": true
   },
   "source": [
    "## File modules\n",
    "File modules are contained within a single file, whose filename ends with either .js or .node. The latter are compiled from C or C++ source code, while the former are of course written in JavaScript. Thus, everything within the module is contained within an anonymous private namespace context. This is how the global object problem is resolved."
   ]
  },
  {
   "cell_type": "code",
   "execution_count": 3,
   "metadata": {},
   "outputs": [
    {
     "name": "stdout",
     "output_type": "stream",
     "text": [
      "Wrote to file module1.js\n"
     ]
    }
   ],
   "source": [
    "// write code to a file called module1.js\n",
    "\n",
    "var code = `\n",
    "var A = \"value A\";\n",
    "var B = \"value B\";\n",
    "exports.values = function() {\n",
    "return { A: A, B: B };\n",
    "}\n",
    "`\n",
    "fs = require(\"fs\");\n",
    "fs.writeFile(\"module1.js\", code, function (err) {\n",
    "    if (err) \n",
    "        return console.log(err);\n",
    "    console.log(\"Wrote to file module1.js\");\n",
    "});"
   ]
  },
  {
   "cell_type": "code",
   "execution_count": 4,
   "metadata": {},
   "outputs": [
    {
     "name": "stdout",
     "output_type": "stream",
     "text": [
      "Wrote to file module2.js\n"
     ]
    }
   ],
   "source": [
    "// write code to a file called module2.js\n",
    "\n",
    "var code = `\n",
    "var util = require('util');\n",
    "var A = \"a different value A\";\n",
    "var B = \"a different value B\";\n",
    "var m1 = require('./module1');\n",
    "util.log('A='+A+' B='+B+' values='+util.inspect(m1.values()));\n",
    "`\n",
    "fs = require(\"fs\");\n",
    "fs.writeFile(\"module2.js\", code, function (err) {\n",
    "    if (err) \n",
    "        return console.log(err);\n",
    "    console.log(\"Wrote to file module2.js\");\n",
    "});"
   ]
  },
  {
   "cell_type": "markdown",
   "metadata": {},
   "source": [
    "Back to the python kernel so that we can call the command line..."
   ]
  },
  {
   "cell_type": "code",
   "execution_count": 2,
   "metadata": {},
   "outputs": [
    {
     "name": "stdout",
     "output_type": "stream",
     "text": [
      "1 Jul 10:54:31 - A=a different value A B=a different value B values={ A: 'value A', B: 'value B' }\n"
     ]
    }
   ],
   "source": [
    "! node module2.js"
   ]
  },
  {
   "cell_type": "markdown",
   "metadata": {},
   "source": [
    "So we can see the encapsulation of the values in module1.js from those in module2.js."
   ]
  },
  {
   "cell_type": "markdown",
   "metadata": {},
   "source": [
    "## Directories as modules\n",
    "This may be a little confusing because the word module is being overloaded with two meanings. In some cases, a module is a file, and in other cases, a module is a directory containing one or more file modules. One way to implement a directory module is with a package.json file. As the name implies, it is in the JSON format, and it contains data about the module (package). From this the Node.js runtime recognizes only these two values:"
   ]
  },
  {
   "cell_type": "code",
   "execution_count": null,
   "metadata": {
    "collapsed": true
   },
   "outputs": [],
   "source": [
    "{ name: \"myAwesomeLibrary\",\n",
    "  main: \"./lib/awesome.js\" }"
   ]
  },
  {
   "cell_type": "markdown",
   "metadata": {},
   "source": [
    "If this package.json file is in a directory named awesomelib, then require('./awesomelib') will load the file module in ./awesomelib/lib/awesome.js. If there is no package.json, then Node.js will look for either index.js or index.node."
   ]
  },
  {
   "cell_type": "code",
   "execution_count": 2,
   "metadata": {},
   "outputs": [
    {
     "name": "stdout",
     "output_type": "stream",
     "text": [
      "Hello from childModule1\n",
      "Hello from childModule2\n",
      "Hello from childModule3\n",
      "index.js is loaded!\n"
     ]
    }
   ],
   "source": [
    "var m1 = require('./parentDirModule'); // basic example of parent directory module and sub modules"
   ]
  },
  {
   "cell_type": "markdown",
   "metadata": {},
   "source": [
    "## Module identifiers\n",
    "There are three types of module identifiers: relative, absolute, and top-level:\n",
    "* Relative module identifiers: These begin with ./ or ../ and absolute identifiers begin with /.\n",
    "* Absolute module identifiers: These begin with /, but this is not a recommended practice.\n",
    "* Top-level module identifiers: These begin with none of those strings and are just the module name."
   ]
  },
  {
   "cell_type": "markdown",
   "metadata": {},
   "source": [
    "## Some more info on npm"
   ]
  },
  {
   "cell_type": "code",
   "execution_count": 2,
   "metadata": {},
   "outputs": [
    {
     "name": "stdout",
     "output_type": "stream",
     "text": [
      "+ akashacms@0.4.17\n",
      "updated 1 package in 22.169s\n"
     ]
    },
    {
     "name": "stderr",
     "output_type": "stream",
     "text": [
      "npm WARN deprecated nodemailer@2.7.2: All versions below 4.0.1 of Nodemailer are deprecated. See https://nodemailer.com/status/\n",
      "npm WARN deprecated node-uuid@1.4.8: Use uuid module instead\n",
      "npm WARN deprecated socks@1.1.10: If using 2.x branch, please upgrade to at least 2.1.6 to avoid a serious bug with socket data flow and an import issue introduced in 2.1.0\n",
      "npm WARN deprecated socks@1.1.9: If using 2.x branch, please upgrade to at least 2.1.6 to avoid a serious bug with socket data flow and an import issue introduced in 2.1.0\n",
      "npm WARN deprecated mailcomposer@4.0.1: This project is unmaintained\n",
      "npm WARN deprecated buildmail@4.0.1: This project is unmaintained\n",
      "npm WARN deprecated minimatch@0.2.14: Please update to minimatch 3.0.2 or higher to avoid a RegExp DoS issue\n",
      "npm WARN deprecated minimatch@0.3.0: Please update to minimatch 3.0.2 or higher to avoid a RegExp DoS issue\n"
     ]
    }
   ],
   "source": [
    "! npm install -g akashacms"
   ]
  },
  {
   "cell_type": "code",
   "execution_count": 3,
   "metadata": {},
   "outputs": [
    {
     "name": "stdout",
     "output_type": "stream",
     "text": [
      " \n",
      "{ name: 'akashacms',\n",
      "  description: 'A content management system to generate static websites using latest HTML5/CSS3/JS goodness.',\n",
      "  'dist-tags': { latest: '0.4.17' },\n",
      "  versions: \n",
      "   [ '0.0.1',\n",
      "     '0.0.2',\n",
      "     '0.0.3',\n",
      "     '0.0.4',\n",
      "     '0.0.5',\n",
      "     '0.0.6',\n",
      "     '0.0.7',\n",
      "     '0.0.8',\n",
      "     '0.0.9',\n",
      "     '0.0.10',\n",
      "     '0.2.0',\n",
      "     '0.2.1',\n",
      "     '0.2.2',\n",
      "     '0.2.3',\n",
      "     '0.2.4',\n",
      "     '0.2.5',\n",
      "     '0.2.6',\n",
      "     '0.2.7',\n",
      "     '0.2.8',\n",
      "     '0.2.9',\n",
      "     '0.2.10',\n",
      "     '0.2.11',\n",
      "     '0.2.12',\n",
      "     '0.2.13',\n",
      "     '0.2.14',\n",
      "     '0.2.15',\n",
      "     '0.2.16',\n",
      "     '0.2.17',\n",
      "     '0.2.18',\n",
      "     '0.2.19',\n",
      "     '0.2.20',\n",
      "     '0.2.21',\n",
      "     '0.2.22',\n",
      "     '0.2.23',\n",
      "     '0.2.24',\n",
      "     '0.2.25',\n",
      "     '0.2.26',\n",
      "     '0.2.27',\n",
      "     '0.3.0',\n",
      "     '0.3.1',\n",
      "     '0.3.2',\n",
      "     '0.3.3',\n",
      "     '0.3.4',\n",
      "     '0.3.5',\n",
      "     '0.3.6',\n",
      "     '0.3.7',\n",
      "     '0.3.8',\n",
      "     '0.3.9',\n",
      "     '0.3.10',\n",
      "     '0.3.11',\n",
      "     '0.3.12',\n",
      "     '0.3.13',\n",
      "     '0.3.14',\n",
      "     '0.3.16',\n",
      "     '0.3.17',\n",
      "     '0.3.18',\n",
      "     '0.3.19',\n",
      "     '0.3.20',\n",
      "     '0.3.21',\n",
      "     '0.3.22',\n",
      "     '0.3.23',\n",
      "     '0.3.24',\n",
      "     '0.3.25',\n",
      "     '0.3.26',\n",
      "     '0.3.27',\n",
      "     '0.3.28',\n",
      "     '0.3.29',\n",
      "     '0.3.30',\n",
      "     '0.3.31',\n",
      "     '0.3.32',\n",
      "     '0.3.33',\n",
      "     '0.3.34',\n",
      "     '0.3.35',\n",
      "     '0.3.36',\n",
      "     '0.3.37',\n",
      "     '0.3.38',\n",
      "     '0.3.39',\n",
      "     '0.3.40',\n",
      "     '0.3.41',\n",
      "     '0.3.42',\n",
      "     '0.3.43',\n",
      "     '0.3.44',\n",
      "     '0.4.0',\n",
      "     '0.4.1',\n",
      "     '0.4.2',\n",
      "     '0.4.3',\n",
      "     '0.4.4',\n",
      "     '0.4.5',\n",
      "     '0.4.6',\n",
      "     '0.4.7',\n",
      "     '0.4.8',\n",
      "     '0.4.9',\n",
      "     '0.4.10',\n",
      "     '0.4.11',\n",
      "     '0.4.12',\n",
      "     '0.4.13',\n",
      "     '0.4.14',\n",
      "     '0.4.15',\n",
      "     '0.4.16',\n",
      "     '0.4.17' ],\n",
      "  maintainers: [ 'reikiman <david@davidherron.com>' ],\n",
      "  time: \n",
      "   { modified: '2017-01-20T04:35:53.739Z',\n",
      "     created: '2012-12-12T04:54:24.556Z',\n",
      "     '0.0.1': '2012-12-12T04:54:25.364Z',\n",
      "     '0.0.2': '2012-12-12T04:56:10.166Z',\n",
      "     '0.0.3': '2012-12-12T17:52:16.549Z',\n",
      "     '0.0.4': '2012-12-12T20:21:36.350Z',\n",
      "     '0.0.5': '2012-12-15T00:11:42.934Z',\n",
      "     '0.0.6': '2012-12-18T04:52:36.197Z',\n",
      "     '0.0.7': '2012-12-18T04:55:38.230Z',\n",
      "     '0.0.8': '2012-12-22T08:19:32.396Z',\n",
      "     '0.0.9': '2012-12-22T08:22:02.879Z',\n",
      "     '0.0.10': '2012-12-22T08:24:49.468Z',\n",
      "     '0.2.0': '2012-12-30T17:22:54.993Z',\n",
      "     '0.2.1': '2012-12-30T17:27:25.535Z',\n",
      "     '0.2.2': '2013-01-02T00:27:10.920Z',\n",
      "     '0.2.3': '2013-01-04T19:57:04.071Z',\n",
      "     '0.2.4': '2013-01-11T01:16:44.573Z',\n",
      "     '0.2.5': '2013-01-16T18:38:52.121Z',\n",
      "     '0.2.6': '2013-01-18T05:46:54.133Z',\n",
      "     '0.2.7': '2013-01-26T07:47:51.926Z',\n",
      "     '0.2.8': '2013-01-27T19:37:12.301Z',\n",
      "     '0.2.9': '2013-02-07T05:46:50.363Z',\n",
      "     '0.2.10': '2013-03-03T05:14:20.343Z',\n",
      "     '0.2.11': '2013-07-08T03:46:20.308Z',\n",
      "     '0.2.12': '2013-07-19T05:44:29.357Z',\n",
      "     '0.2.13': '2013-07-19T06:09:57.325Z',\n",
      "     '0.2.14': '2013-07-19T06:15:56.873Z',\n",
      "     '0.2.15': '2013-07-19T06:38:54.795Z',\n",
      "     '0.2.16': '2013-07-20T01:10:35.019Z',\n",
      "     '0.2.17': '2013-07-20T04:59:00.191Z',\n",
      "     '0.2.18': '2013-07-25T04:25:47.926Z',\n",
      "     '0.2.19': '2013-07-26T00:32:45.197Z',\n",
      "     '0.2.20': '2013-08-28T17:22:09.338Z',\n",
      "     '0.2.21': '2013-09-02T20:44:58.230Z',\n",
      "     '0.2.22': '2013-10-22T05:46:56.423Z',\n",
      "     '0.2.23': '2013-11-22T03:37:23.782Z',\n",
      "     '0.2.24': '2013-11-29T23:40:36.506Z',\n",
      "     '0.2.25': '2014-03-31T18:56:11.019Z',\n",
      "     '0.2.26': '2014-04-09T03:52:29.818Z',\n",
      "     '0.2.27': '2014-04-10T05:59:55.494Z',\n",
      "     '0.3.0': '2014-04-15T06:16:09.274Z',\n",
      "     '0.3.1': '2014-05-05T04:07:41.390Z',\n",
      "     '0.3.2': '2014-05-05T05:27:07.918Z',\n",
      "     '0.3.3': '2014-05-05T05:49:24.942Z',\n",
      "     '0.3.4': '2014-05-06T04:34:20.241Z',\n",
      "     '0.3.5': '2014-06-07T03:33:40.565Z',\n",
      "     '0.3.6': '2014-06-10T19:48:58.070Z',\n",
      "     '0.3.7': '2014-06-10T20:56:33.330Z',\n",
      "     '0.3.8': '2014-06-10T22:56:51.088Z',\n",
      "     '0.3.9': '2014-09-13T04:51:22.470Z',\n",
      "     '0.3.10': '2014-09-18T04:52:57.717Z',\n",
      "     '0.3.11': '2014-10-23T04:29:01.071Z',\n",
      "     '0.3.12': '2014-10-24T22:31:19.712Z',\n",
      "     '0.3.13': '2014-10-26T19:23:42.489Z',\n",
      "     '0.3.14': '2014-11-04T21:56:41.906Z',\n",
      "     '0.3.16': '2014-11-08T05:58:37.269Z',\n",
      "     '0.3.17': '2014-11-08T06:08:43.820Z',\n",
      "     '0.3.18': '2014-11-14T03:25:12.215Z',\n",
      "     '0.3.19': '2014-11-14T06:07:56.309Z',\n",
      "     '0.3.20': '2014-11-16T17:38:19.575Z',\n",
      "     '0.3.21': '2014-11-16T22:00:24.582Z',\n",
      "     '0.3.22': '2014-11-17T04:10:35.893Z',\n",
      "     '0.3.23': '2014-11-17T18:52:42.632Z',\n",
      "     '0.3.24': '2014-11-17T20:44:50.034Z',\n",
      "     '0.3.25': '2014-11-17T21:17:45.717Z',\n",
      "     '0.3.26': '2014-11-17T22:59:28.770Z',\n",
      "     '0.3.27': '2014-12-13T23:16:08.318Z',\n",
      "     '0.3.28': '2014-12-15T03:59:56.592Z',\n",
      "     '0.3.29': '2014-12-15T06:30:19.789Z',\n",
      "     '0.3.30': '2014-12-21T03:23:33.720Z',\n",
      "     '0.3.31': '2014-12-21T20:20:26.312Z',\n",
      "     '0.3.32': '2014-12-22T23:23:24.147Z',\n",
      "     '0.3.33': '2014-12-29T20:04:38.717Z',\n",
      "     '0.3.34': '2014-12-29T20:38:45.807Z',\n",
      "     '0.3.35': '2015-01-04T19:03:35.176Z',\n",
      "     '0.3.36': '2015-01-04T19:20:49.247Z',\n",
      "     '0.3.37': '2015-01-05T21:50:57.910Z',\n",
      "     '0.3.38': '2015-01-06T22:14:12.077Z',\n",
      "     '0.3.39': '2015-01-11T21:51:41.855Z',\n",
      "     '0.3.40': '2015-01-16T05:48:30.886Z',\n",
      "     '0.3.41': '2015-02-04T03:21:10.956Z',\n",
      "     '0.3.42': '2015-02-05T23:43:44.651Z',\n",
      "     '0.3.43': '2015-02-11T07:27:01.043Z',\n",
      "     '0.3.44': '2015-02-13T05:38:28.824Z',\n",
      "     '0.4.0': '2015-02-14T20:36:12.783Z',\n",
      "     '0.4.1': '2015-02-25T23:35:27.075Z',\n",
      "     '0.4.2': '2015-04-16T22:22:05.960Z',\n",
      "     '0.4.3': '2015-05-01T23:26:54.760Z',\n",
      "     '0.4.4': '2015-05-04T19:41:45.224Z',\n",
      "     '0.4.5': '2015-05-06T01:35:05.616Z',\n",
      "     '0.4.6': '2015-05-07T19:49:08.656Z',\n",
      "     '0.4.7': '2015-05-07T20:09:57.126Z',\n",
      "     '0.4.8': '2015-05-09T07:31:10.811Z',\n",
      "     '0.4.9': '2015-05-10T04:46:53.612Z',\n",
      "     '0.4.10': '2015-05-10T05:04:37.177Z',\n",
      "     '0.4.11': '2015-05-10T05:21:05.727Z',\n",
      "     '0.4.12': '2015-05-19T03:45:47.838Z',\n",
      "     '0.4.13': '2015-06-30T22:14:03.522Z',\n",
      "     '0.4.14': '2015-08-10T18:30:58.775Z',\n",
      "     '0.4.15': '2015-11-12T23:15:03.546Z',\n",
      "     '0.4.16': '2015-11-23T04:05:44.531Z',\n",
      "     '0.4.17': '2017-01-20T04:35:53.739Z' },\n",
      "  author: 'David Herron <david@davidherron.com> (http://davidherron.com)',\n",
      "  repository: { type: 'git', url: 'git://github.com/akashacms/akashacms.git' },\n",
      "  homepage: 'http://akashacms.com/',\n",
      "  bugs: { url: 'https://github.com/akashacms/akashacms/issues' },\n",
      "  readmeFilename: 'README.md',\n",
      "  keywords: \n",
      "   [ 'content management system',\n",
      "     'cms',\n",
      "     'static site generator',\n",
      "     'static file server',\n",
      "     'web development',\n",
      "     'build and deployment',\n",
      "     'renderer',\n",
      "     'templating',\n",
      "     'templates',\n",
      "     'website',\n",
      "     'website builder',\n",
      "     'blog',\n",
      "     'akashacms' ],\n",
      "  version: '0.4.17',\n",
      "  engines: { node: '>=0.10.1' },\n",
      "  directories: { lib: './lib' },\n",
      "  dependencies: \n",
      "   { async: '>=0.1.22',\n",
      "     mahabhuta: '*',\n",
      "     cheerio: '*',\n",
      "     ejs: '>=0.8.3',\n",
      "     kernel: '>=0.1.3',\n",
      "     less: '>=1.3.0',\n",
      "     log4js: '*',\n",
      "     'fs-extra': '>=0.0.1',\n",
      "     globfs: '*',\n",
      "     mime: '*',\n",
      "     minify: '>=0.1.8',\n",
      "     'node-zip': '*',\n",
      "     oembetter: '>=0.1.14',\n",
      "     'markdown-it': '>= 3.0.2',\n",
      "     request: '*',\n",
      "     sightmap: '>=0.0.0',\n",
      "     ssh2sync: '*',\n",
      "     rss: '*',\n",
      "     yfm: '*',\n",
      "     archiver: '*',\n",
      "     resolve: '*' },\n",
      "  devDependencies: { vows: '>=0.8.1' },\n",
      "  scripts: { test: 'vows --verbose --spec test/*' },\n",
      "  gitHead: 'e27683842d5d5325b2ca690a69d56e28ccd8e702',\n",
      "  dist: \n",
      "   { shasum: '5c2176b4530bda9b4b37b4def986868d9436abd5',\n",
      "     tarball: 'https://registry.npmjs.org/akashacms/-/akashacms-0.4.17.tgz' } }\n",
      "\n"
     ]
    }
   ],
   "source": [
    "! npm view akashacms"
   ]
  },
  {
   "cell_type": "markdown",
   "metadata": {},
   "source": [
    "## Initializing a new npm package\n",
    "If you want to create a new package, you can create the package.json file by hand or you can get npm's help. The npm init command leads you through a little dialog to get starting values for the package.json file."
   ]
  },
  {
   "cell_type": "code",
   "execution_count": null,
   "metadata": {
    "collapsed": true
   },
   "outputs": [],
   "source": [
    "! npm init"
   ]
  },
  {
   "cell_type": "markdown",
   "metadata": {},
   "source": [
    "## Maintaining package dependencies with npm\n",
    "What happens is npm looks in package.json for the dependencies or devDependencies field, and it will automatically install the\n",
    "mentioned npm packages."
   ]
  },
  {
   "cell_type": "markdown",
   "metadata": {},
   "source": [
    "## Fixing bugs by updating package dependencies\n",
    "Bugs exist in every piece of software. An update to the Node.js platform may break an existing package, as might an upgrade to packages used by the application, or your application may trigger a bug in a package it uses. It is for these reasons that the Twelve-Factor application model recommends explicitly declaring specific dependencies to install. Listing an explicit version\n",
    "number in package.json means that the package maintainer can release a new version, but you're in control of if, or when, you adopt that version."
   ]
  },
  {
   "cell_type": "markdown",
   "metadata": {},
   "source": [
    "## Declaring Node.js version compatibility\n",
    "This dependency is declared in package.json using the engines tag:"
   ]
  },
  {
   "cell_type": "code",
   "execution_count": null,
   "metadata": {
    "collapsed": true
   },
   "outputs": [],
   "source": [
    "\"engines\": {\n",
    "  \"node\": \">= \"5.x\"\n",
    "}"
   ]
  },
  {
   "cell_type": "markdown",
   "metadata": {},
   "source": [
    "## Updating outdated packages you've installed (p.g. 53)"
   ]
  },
  {
   "cell_type": "code",
   "execution_count": 1,
   "metadata": {},
   "outputs": [
    {
     "name": "stdout",
     "output_type": "stream",
     "text": [
      "Pixiedust database opened successfully\n"
     ]
    },
    {
     "data": {
      "text/html": [
       "\n",
       "        <div style=\"margin:10px\">\n",
       "            <a href=\"https://github.com/ibm-watson-data-lab/pixiedust\" target=\"_new\">\n",
       "                <img src=\"https://github.com/ibm-watson-data-lab/pixiedust/raw/master/docs/_static/pd_icon32.png\" style=\"float:left;margin-right:10px\"/>\n",
       "            </a>\n",
       "            <span>Pixiedust version 1.1.11</span>\n",
       "        </div>\n",
       "        "
      ],
      "text/plain": [
       "<IPython.core.display.HTML object>"
      ]
     },
     "metadata": {},
     "output_type": "display_data"
    },
    {
     "data": {
      "text/html": [
       "\n",
       "            <div style=\"margin:10px\"> \n",
       "            <a href=\"https://github.com/ibm-cds-labs/pixiedust_node\" target=\"_new\"> \n",
       "            <img src=\"https://github.com/ibm-cds-labs/pixiedust_node/raw/master/docs/_images/pdn_icon32.png\" style=\"float:left;margin-right:10px\"/> \n",
       "            </a> \n",
       "            <span>Pixiedust Node.js</span> \n",
       "            </div> \n"
      ],
      "text/plain": [
       "<IPython.core.display.HTML object>"
      ]
     },
     "metadata": {},
     "output_type": "display_data"
    },
    {
     "name": "stdout",
     "output_type": "stream",
     "text": [
      "pixiedust_node 0.2.5 started. Cells starting '%%node' may contain Node.js code.\n"
     ]
    }
   ],
   "source": [
    "import pixiedust_node # back to the python kernel (ijs not playing nice on this machine)"
   ]
  },
  {
   "cell_type": "markdown",
   "metadata": {},
   "source": [
    "Find outdated packages with..."
   ]
  },
  {
   "cell_type": "code",
   "execution_count": 2,
   "metadata": {
    "collapsed": true
   },
   "outputs": [],
   "source": [
    "! npm outdated"
   ]
  },
  {
   "cell_type": "markdown",
   "metadata": {},
   "source": [
    "We can then update specific packages or all of them with"
   ]
  },
  {
   "cell_type": "code",
   "execution_count": 3,
   "metadata": {
    "collapsed": true
   },
   "outputs": [],
   "source": [
    "! npm update ijavascript"
   ]
  },
  {
   "cell_type": "code",
   "execution_count": 4,
   "metadata": {
    "collapsed": true
   },
   "outputs": [],
   "source": [
    "! npm update"
   ]
  },
  {
   "cell_type": "markdown",
   "metadata": {},
   "source": [
    "## Publishing an npm package\n",
    " It is very easy to get started with publishing packages. Online docs can be found at https://docs.npmjs.com/gettingstarted/publishing-npm-packages"
   ]
  },
  {
   "cell_type": "markdown",
   "metadata": {},
   "source": [
    "## Package version numbers\n",
    "The npm package, however, knows about version numbers. It uses the Semantic Versioning model (http://semver.org)"
   ]
  },
  {
   "cell_type": "code",
   "execution_count": 5,
   "metadata": {},
   "outputs": [
    {
     "name": "stdout",
     "output_type": "stream",
     "text": [
      "5.0.20\n"
     ]
    }
   ],
   "source": [
    "! npm view ijavascript version"
   ]
  },
  {
   "cell_type": "markdown",
   "metadata": {},
   "source": [
    "Sometimes, package maintainers introduce bugs that you want to avoid. The dependencies in your application can list a specific version number. You can list specific version numbers, changing the version dependency only when you're satisfied it is safe to do so. "
   ]
  },
  {
   "cell_type": "markdown",
   "metadata": {},
   "source": [
    "Step 1 of the Twelve-Factor methodology is ensuring that your application code is checked into a source code repository. You probably already know this, and even ave the best of intentions to ensure that everything is checked in. With Node.js,\n",
    "each module should have its own repository rather than putting every single last iece of code in one repository. Doing so ensures that each module progresses on its own timeline. For example, a breakage in one module is easy to back out by changing the version dependency in package.json."
   ]
  }
 ],
 "metadata": {
  "anaconda-cloud": {},
  "kernelspec": {
   "display_name": "Python 2",
   "language": "python",
   "name": "python2"
  },
  "language_info": {
   "codemirror_mode": {
    "name": "ipython",
    "version": 2
   },
   "file_extension": ".py",
   "mimetype": "text/x-python",
   "name": "python",
   "nbconvert_exporter": "python",
   "pygments_lexer": "ipython2",
   "version": "2.7.14"
  }
 },
 "nbformat": 4,
 "nbformat_minor": 1
}
