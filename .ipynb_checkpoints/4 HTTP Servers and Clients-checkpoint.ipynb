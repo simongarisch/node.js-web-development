{
 "cells": [
  {
   "cell_type": "markdown",
   "metadata": {},
   "source": [
    "## HTTP Servers and Clients"
   ]
  },
  {
   "cell_type": "markdown",
   "metadata": {},
   "source": [
    "## Sending and receiving events with EventEmitters\n",
    "EventEmitters are one of the core idioms of Node.js. Many of the core modules are EventEmitters, and also EventEmitters make an excellent skeleton to implement asynchronous programming. In this chapter, we'll work with the HTTPServer and HTTPClient objects. Both of them are subclasses of EventEmitter and rely on it to send events for each step of the HTTP protocol. "
   ]
  },
  {
   "cell_type": "code",
   "execution_count": 1,
   "metadata": {},
   "outputs": [
    {
     "data": {
      "text/plain": [
       "[Function]"
      ]
     },
     "execution_count": 1,
     "metadata": {},
     "output_type": "execute_result"
    }
   ],
   "source": [
    "// this defines a Pulser class\n",
    "\n",
    "var events = require('events');\n",
    "var util = require('util');\n",
    "\n",
    "// Define the Pulser object\n",
    "function Pulser() {\n",
    " events.EventEmitter.call(this);\n",
    "}\n",
    "\n",
    "util.inherits(Pulser, events.EventEmitter);\n",
    "\n",
    "Pulser.prototype.start = function() {\n",
    " setInterval(() => {\n",
    " util.log('>>>> pulse');\n",
    " this.emit('pulse');\n",
    " util.log('<<<< pulse');\n",
    " }, 1000);\n",
    "};"
   ]
  },
  {
   "cell_type": "markdown",
   "metadata": {},
   "source": [
    "This defines a Pulser class, which inherits from EventEmitter (using util.inherits). Its purpose is to send timed events, once a second, to any listeners. "
   ]
  },
  {
   "cell_type": "code",
   "execution_count": 2,
   "metadata": {},
   "outputs": [
    {
     "name": "stdout",
     "output_type": "stream",
     "text": [
      "3 Jul 19:33:50 - >>>> pulse\n",
      "3 Jul 19:33:50 - pulse received\n",
      "3 Jul 19:33:50 - <<<< pulse\n",
      "3 Jul 19:33:51 - >>>> pulse\n",
      "3 Jul 19:33:51 - pulse received\n",
      "3 Jul 19:33:51 - <<<< pulse\n",
      "3 Jul 19:33:52 - >>>> pulse\n",
      "3 Jul 19:33:52 - pulse received\n",
      "3 Jul 19:33:52 - <<<< pulse\n",
      "3 Jul 19:33:53 - >>>> pulse\n",
      "3 Jul 19:33:53 - pulse received\n",
      "3 Jul 19:33:53 - <<<< pulse\n",
      "3 Jul 19:33:54 - >>>> pulse\n",
      "3 Jul 19:33:54 - pulse received\n",
      "3 Jul 19:33:54 - <<<< pulse\n",
      "3 Jul 19:33:55 - >>>> pulse\n",
      "3 Jul 19:33:55 - pulse received\n",
      "3 Jul 19:33:55 - <<<< pulse\n"
     ]
    }
   ],
   "source": [
    "// Instantiate a Pulser object\n",
    "var pulser = new Pulser();\n",
    "\n",
    "// Handler function\n",
    "pulser.on('pulse', () => {\n",
    " util.log('pulse received');\n",
    "});\n",
    "\n",
    "// Start it pulsing\n",
    "pulser.start();"
   ]
  },
  {
   "cell_type": "markdown",
   "metadata": {},
   "source": [
    "Here is an example from tutorials point..."
   ]
  },
  {
   "cell_type": "code",
   "execution_count": 1,
   "metadata": {},
   "outputs": [
    {
     "name": "stdout",
     "output_type": "stream",
     "text": [
      "2 Listner(s) listening to connection event\n",
      "listner1 executed.\n",
      "listner2 executed.\n",
      "Listner1 will not listen now.\n",
      "listner2 executed.\n",
      "1 Listner(s) listening to connection event\n",
      "Program Ended.\n"
     ]
    }
   ],
   "source": [
    "// https://www.tutorialspoint.com/nodejs/nodejs_event_emitter.htm\n",
    "    \n",
    "var events = require('events');\n",
    "var eventEmitter = new events.EventEmitter();\n",
    "\n",
    "// listener #1\n",
    "var listner1 = function listner1() {\n",
    "   console.log('listner1 executed.');\n",
    "}\n",
    "\n",
    "// listener #2\n",
    "var listner2 = function listner2() {\n",
    "  console.log('listner2 executed.');\n",
    "}\n",
    "\n",
    "// Bind the connection event with the listner1 function\n",
    "eventEmitter.addListener('connection', listner1);\n",
    "\n",
    "// Bind the connection event with the listner2 function\n",
    "eventEmitter.on('connection', listner2);\n",
    "\n",
    "var eventListeners = require('events').EventEmitter.listenerCount(eventEmitter,'connection');\n",
    "console.log(eventListeners + \" Listner(s) listening to connection event\");\n",
    "\n",
    "// Fire the connection event \n",
    "eventEmitter.emit('connection');\n",
    "\n",
    "// Remove the binding of listner1 function\n",
    "eventEmitter.removeListener('connection', listner1);\n",
    "console.log(\"Listner1 will not listen now.\");\n",
    "\n",
    "// Fire the connection event \n",
    "eventEmitter.emit('connection');\n",
    "\n",
    "eventListeners = require('events').EventEmitter.listenerCount(eventEmitter,'connection');\n",
    "console.log(eventListeners + \" Listner(s) listening to connection event\");\n",
    "\n",
    "console.log(\"Program Ended.\");"
   ]
  },
  {
   "cell_type": "markdown",
   "metadata": {
    "collapsed": true
   },
   "source": [
    "The EventEmitter event has many names, and it can be anything that makes sense to you. You can define as many event names as you like. Event names are defined simply by calling .emit with the event name."
   ]
  },
  {
   "cell_type": "markdown",
   "metadata": {},
   "source": [
    "## HTTP server applications\n",
    "In most cases, you'll be able to use an application framework such as Express that hides the HTTP protocol details, allowing the programmer to focus on business logic. We already saw a simple HTTP server application:"
   ]
  },
  {
   "cell_type": "code",
   "execution_count": 2,
   "metadata": {},
   "outputs": [
    {
     "name": "stdout",
     "output_type": "stream",
     "text": [
      "Server running at http://127.0.0.1:8124\n"
     ]
    }
   ],
   "source": [
    "var http = require('http');\n",
    "http.createServer((req, res) => {\n",
    " res.writeHead(200, {'Content-Type': 'text/plain'});\n",
    " res.end('Hello, World!\\n');\n",
    "}).listen(8124, '127.0.0.1');\n",
    "\n",
    "console.log('Server running at http://127.0.0.1:8124');"
   ]
  },
  {
   "cell_type": "markdown",
   "metadata": {},
   "source": [
    "Now, let's look at something more interesting with different actions based on the URL."
   ]
  },
  {
   "cell_type": "code",
   "execution_count": 3,
   "metadata": {},
   "outputs": [
    {
     "name": "stdout",
     "output_type": "stream",
     "text": [
      "listening to http://localhost:8124\n"
     ]
    },
    {
     "name": "stderr",
     "output_type": "stream",
     "text": [
      "(node:11088) [DEP0022] DeprecationWarning: os.tmpDir() is deprecated. Use os.tmpdir() instead.\n"
     ]
    }
   ],
   "source": [
    "var http = require('http');\n",
    "var util = require('util');\n",
    "var url = require('url');\n",
    "var os = require('os');\n",
    "var server = http.createServer();\n",
    "server.on('request', (req, res) => {\n",
    " var requrl = url.parse(req.url, true);\n",
    " if (requrl.pathname === '/') {\n",
    " res.writeHead(200, {'Content-Type': 'text/html'});\n",
    " res.end(\n",
    "`<html><head><title>Hello, world!</title></head>\n",
    "<body><h1>Hello, world!</h1>\n",
    "<p><a href='/osinfo'>OS Info</a></p>\n",
    "</body></html>`);\n",
    " } else if (requrl.pathname === \"/osinfo\") {\n",
    " res.writeHead(200, {'Content-Type': 'text/html'});\n",
    " res.end(\n",
    "`<html><head><title>Operating System Info</title></head>\n",
    "<body><h1>Operating System Info</h1>\n",
    "<table>\n",
    "<tr><th>TMP Dir</th><td>${os.tmpDir()}</td></tr>\n",
    "<tr><th>Host Name</th><td>${os.hostname()}</td></tr>\n",
    "<tr><th>OS Type</th><td>${os.type()} ${os.platform()} ${os.arch()}\n",
    "${os.release()}</td></tr>\n",
    "<tr><th>Uptime</th><td>${os.uptime()} ${util.inspect(os.loadavg())}</\n",
    "td></tr>\n",
    "<tr><th>Memory</th><td>total: ${os.totalmem()} free: ${os.freemem()}</\n",
    "td></tr>\n",
    "<tr><th>CPU's</th><td><pre>${util.inspect(os.cpus())}</pre></td></tr>\n",
    "<tr><th>Network</th><td><pre>${util.inspect(os.networkInterfaces())}</\n",
    "pre></td></tr>\n",
    "</table>\n",
    "</body></html>`);\n",
    " } else {\n",
    " res.writeHead(404, {'Content-Type': 'text/plain'});\n",
    " res.end(\"bad URL \"+ req.url);\n",
    " }\n",
    "});\n",
    "server.listen(8124);\n",
    "\n",
    "console.log('listening to http://localhost:8124');"
   ]
  },
  {
   "cell_type": "markdown",
   "metadata": {
    "collapsed": true
   },
   "source": [
    "The real purpose of the template strings feature is supporting strings where we can easily substitute values directly into the string. Most other programming languages support this ability, and now JavaScript does too."
   ]
  },
  {
   "cell_type": "markdown",
   "metadata": {
    "collapsed": true
   },
   "source": [
    "## HTTP Sniffer – listening to the HTTP conversation\n",
    "The following code demonstrates a useful module that listens to all the HTTP Server events. It could be a useful debugging tool, which also demonstrates how HTTP server objects operate."
   ]
  },
  {
   "cell_type": "code",
   "execution_count": 5,
   "metadata": {},
   "outputs": [
    {
     "data": {
      "text/plain": [
       "[Function: sniffOn]"
      ]
     },
     "execution_count": 5,
     "metadata": {},
     "output_type": "execute_result"
    }
   ],
   "source": [
    "var util = require('util');\n",
    "var url = require('url');\n",
    "sniffOn = function(server) {\n",
    " server.on('request', (req, res) => {\n",
    " util.log('e_request');\n",
    " util.log(reqToString(req));\n",
    " });\n",
    " server.on('close', errno => { util.log('e_close errno='+ errno);\n",
    "});\n",
    " server.on('checkContinue', (req, res) => {\n",
    " util.log('e_checkContinue');\n",
    " util.log(reqToString(req));\n",
    " res.writeContinue();\n",
    " });\n",
    " server.on('upgrade', (req, socket, head) => {\n",
    " util.log('e_upgrade');\n",
    " util.log(reqToString(req));\n",
    " });\n",
    " server.on('clientError', () => { util.log('e_clientError'); });\n",
    "};\n",
    "var reqToString = exports.reqToString = function(req) {\n",
    " var ret=`req ${req.method} ${req.httpVersion} ${req.url}` +'\\n';\n",
    " ret += JSON.stringify(url.parse(req.url, true)) +'\\n';\n",
    " var keys = Object.keys(req.headers);\n",
    " for (var i = 0, l = keys.length; i < l; i++) {\n",
    " var key = keys[i];\n",
    " ret += `${i} ${key}: ${req.headers[key]}` +'\\n';\n",
    " }\n",
    " if (req.trailers)\n",
    " ret += req.trailers +'\\n';\n",
    " return ret;\n",
    "};"
   ]
  },
  {
   "cell_type": "code",
   "execution_count": 6,
   "metadata": {},
   "outputs": [
    {
     "name": "stdout",
     "output_type": "stream",
     "text": [
      "listening to http://localhost:8124\n",
      "4 Jul 07:52:20 - e_request\n",
      "4 Jul 07:52:20 - req GET 1.1 /\n",
      "{\"protocol\":null,\"slashes\":null,\"auth\":null,\"host\":null,\"port\":null,\"hostname\":null,\"hash\":null,\"search\":\"\",\"query\":{},\"pathname\":\"/\",\"path\":\"/\",\"href\":\"/\"}\n",
      "0 host: localhost:8124\n",
      "1 connection: keep-alive\n",
      "2 upgrade-insecure-requests: 1\n",
      "3 user-agent: Mozilla/5.0 (Windows NT 6.1; Win64; x64) AppleWebKit/537.36 (KHTML, like Gecko) Chrome/67.0.3396.99 Safari/537.36\n",
      "4 accept: text/html,application/xhtml+xml,application/xml;q=0.9,image/webp,image/apng,*/*;q=0.8\n",
      "5 referer: http://localhost:8888/notebooks/4%20HTTP%20Servers%20and%20Clients.ipynb\n",
      "6 accept-encoding: gzip, deflate, br\n",
      "7 accept-language: en-GB,en-US;q=0.9,en;q=0.8\n",
      "8 cookie: _xsrf=2|fa929ee8|64299ac4f1456df4a5cfdb56abc8903e|1529443044; username-localhost-8888=\"2|1:0|10:1530654392|23:username-localhost-8888|44:NGViYzI3OGM2NmIzNDYyZGExYmQzODIxZTdiZmJhMDI=|39c9654bfd0019af34afe0247389ccd32166f06a920d54852ec8dcea273a47e3\"\n",
      "[object Object]\n",
      "\n"
     ]
    }
   ],
   "source": [
    "var server = http.createServer();\n",
    "//require('./httpsniffer').sniffOn(server);\n",
    "sniffOn(server);\n",
    "server.listen(8124);\n",
    "console.log('listening to http://localhost:8124');"
   ]
  },
  {
   "cell_type": "markdown",
   "metadata": {},
   "source": [
    "## Web application frameworks\n",
    "The HTTPServer object is very close to the HTTP protocol. It's better to abstract away the HTTP details and concentrate on your application."
   ]
  },
  {
   "cell_type": "markdown",
   "metadata": {},
   "source": [
    "## Getting started with Express\n",
    "Express is perhaps the most popular Node.js web app framework. It's so popular that it's part of the MEAN Stack acronym. MEAN refers to MongoDB, ExpressJS, AngularJS, and Node.js. "
   ]
  },
  {
   "cell_type": "markdown",
   "metadata": {},
   "source": [
    "Back to the Python kernel so that we can run some command line actions."
   ]
  },
  {
   "cell_type": "code",
   "execution_count": 3,
   "metadata": {},
   "outputs": [
    {
     "name": "stdout",
     "output_type": "stream",
     "text": [
      "+ express-generator@4.16.0\n",
      "added 8 packages in 6.95s\n"
     ]
    },
    {
     "name": "stderr",
     "output_type": "stream",
     "text": [
      "npm WARN saveError ENOENT: no such file or directory, open 'C:\\Users\\simon.garisch\\package.json'\n",
      "npm WARN enoent ENOENT: no such file or directory, open 'C:\\Users\\simon.garisch\\package.json'\n",
      "npm WARN simon.garisch No description\n",
      "npm WARN simon.garisch No repository field.\n",
      "npm WARN simon.garisch No README data\n",
      "npm WARN simon.garisch No license field.\n",
      "\n"
     ]
    }
   ],
   "source": [
    "! npm install express-generator@4.x"
   ]
  },
  {
   "cell_type": "markdown",
   "metadata": {},
   "source": [
    "Many now recommend against installing modules globally. In the Twelve-Factor model, it's strongly recommended to not install\n",
    "global dependencies, and that's what we're doing. https://expressjs.com/en/starter/generator.html"
   ]
  },
  {
   "cell_type": "code",
   "execution_count": 6,
   "metadata": {},
   "outputs": [
    {
     "name": "stdout",
     "output_type": "stream",
     "text": [
      "C:\\Anaconda2\\express -> C:\\Anaconda2\\node_modules\\express-generator\\bin\\express-cli.js\n",
      "+ express-generator@4.16.0\n",
      "added 10 packages in 2.392s\n"
     ]
    }
   ],
   "source": [
    "! npm install express-generator -g"
   ]
  },
  {
   "cell_type": "code",
   "execution_count": 7,
   "metadata": {},
   "outputs": [
    {
     "name": "stdout",
     "output_type": "stream",
     "text": [
      "C:\\Anaconda2\\bower -> C:\\Anaconda2\\node_modules\\bower\\bin\\bower\n",
      "+ bower@1.8.4\n",
      "added 1 package in 13.102s\n"
     ]
    },
    {
     "name": "stderr",
     "output_type": "stream",
     "text": [
      "npm WARN deprecated bower@1.8.4: We don't recommend using Bower for new projects. Please consider Yarn and Webpack or Parcel. You can read how to migrate legacy project here: https://bower.io/blog/2017/how-to-migrate-away-from-bower/\n"
     ]
    }
   ],
   "source": [
    "! npm install -g bower"
   ]
  },
  {
   "cell_type": "code",
   "execution_count": 6,
   "metadata": {},
   "outputs": [
    {
     "name": "stdout",
     "output_type": "stream",
     "text": [
      "\n",
      "Usage: npm <command>\n",
      "\n",
      "where <command> is one of:\n",
      "    access, adduser, bin, bugs, c, cache, completion, config,\n",
      "    ddp, dedupe, deprecate, dist-tag, docs, doctor, edit,\n",
      "    explore, get, help, help-search, i, init, install,\n",
      "    install-test, it, link, list, ln, login, logout, ls,\n",
      "    outdated, owner, pack, ping, prefix, profile, prune,\n",
      "    publish, rb, rebuild, repo, restart, root, run, run-script,\n",
      "    s, se, search, set, shrinkwrap, star, stars, start, stop, t,\n",
      "    team, test, token, tst, un, uninstall, unpublish, unstar,\n",
      "    up, update, v, version, view, whoami\n",
      "\n",
      "npm <command> -h     quick help on <command>\n",
      "npm -l           display full usage info\n",
      "npm help <term>  search for help on <term>\n",
      "npm help npm     involved overview\n",
      "\n",
      "Specify configs in the ini-formatted file:\n",
      "    C:\\Users\\simon.garisch\\.npmrc\n",
      "or on the command line via: npm <command> --key value\n",
      "Config info can be viewed via: npm help config\n",
      "\n",
      "npm@5.5.1 C:\\Anaconda2\\node_modules\\npm\n"
     ]
    }
   ],
   "source": [
    "! npm -h"
   ]
  },
  {
   "cell_type": "code",
   "execution_count": 7,
   "metadata": {},
   "outputs": [
    {
     "name": "stdout",
     "output_type": "stream",
     "text": [
      "\n",
      "  Usage: express [options] [dir]\n",
      "\n",
      "\n",
      "  Options:\n",
      "\n",
      "        --version        output the version number\n",
      "    -e, --ejs            add ejs engine support\n",
      "        --pug            add pug engine support\n",
      "        --hbs            add handlebars engine support\n",
      "    -H, --hogan          add hogan.js engine support\n",
      "    -v, --view <engine>  add view <engine> support (dust|ejs|hbs|hjs|jade|pug|twig|vash) (defaults to jade)\n",
      "        --no-view        use static html instead of view engine\n",
      "    -c, --css <engine>   add stylesheet <engine> support (less|stylus|compass|sass) (defaults to plain css)\n",
      "        --git            add .gitignore\n",
      "    -f, --force          force on non-empty directory\n",
      "    -h, --help           output usage information\n"
     ]
    }
   ],
   "source": [
    "! express -h"
   ]
  },
  {
   "cell_type": "code",
   "execution_count": 1,
   "metadata": {},
   "outputs": [
    {
     "name": "stdout",
     "output_type": "stream",
     "text": [
      "\n",
      "   \u001b[36mcreate\u001b[0m : myapp\\\n",
      "   \u001b[36mcreate\u001b[0m : myapp\\public\\\n",
      "   \u001b[36mcreate\u001b[0m : myapp\\public\\javascripts\\\n",
      "   \u001b[36mcreate\u001b[0m : myapp\\public\\images\\\n",
      "   \u001b[36mcreate\u001b[0m : myapp\\public\\stylesheets\\\n",
      "   \u001b[36mcreate\u001b[0m : myapp\\public\\stylesheets\\style.css\n",
      "   \u001b[36mcreate\u001b[0m : myapp\\routes\\\n",
      "   \u001b[36mcreate\u001b[0m : myapp\\routes\\index.js\n",
      "   \u001b[36mcreate\u001b[0m : myapp\\routes\\users.js\n",
      "   \u001b[36mcreate\u001b[0m : myapp\\views\\\n",
      "   \u001b[36mcreate\u001b[0m : myapp\\views\\error.pug\n",
      "   \u001b[36mcreate\u001b[0m : myapp\\views\\index.pug\n",
      "   \u001b[36mcreate\u001b[0m : myapp\\views\\layout.pug\n",
      "   \u001b[36mcreate\u001b[0m : myapp\\app.js\n",
      "   \u001b[36mcreate\u001b[0m : myapp\\package.json\n",
      "   \u001b[36mcreate\u001b[0m : myapp\\bin\\\n",
      "   \u001b[36mcreate\u001b[0m : myapp\\bin\\www\n",
      "\n",
      "   change directory:\n",
      "     > cd myapp\n",
      "\n",
      "   install dependencies:\n",
      "     > npm install\n",
      "\n",
      "   run the app:\n",
      "     > SET DEBUG=myapp:* & npm start\n",
      "\n"
     ]
    }
   ],
   "source": [
    "! express --view=pug myapp"
   ]
  },
  {
   "cell_type": "code",
   "execution_count": 11,
   "metadata": {
    "collapsed": true
   },
   "outputs": [],
   "source": [
    "! cd myapp"
   ]
  },
  {
   "cell_type": "code",
   "execution_count": 13,
   "metadata": {},
   "outputs": [
    {
     "data": {
      "text/plain": [
       "'C:\\\\Users\\\\simon.garisch\\\\Desktop\\\\git\\\\node.js-web-development'"
      ]
     },
     "execution_count": 13,
     "metadata": {},
     "output_type": "execute_result"
    }
   ],
   "source": [
    "# confirm working directory\n",
    "import os\n",
    "os.getcwd()"
   ]
  },
  {
   "cell_type": "code",
   "execution_count": 14,
   "metadata": {},
   "outputs": [
    {
     "name": "stdout",
     "output_type": "stream",
     "text": [
      "C:\\Users\\simon.garisch\\Desktop\\git\\node.js-web-development\n"
     ]
    }
   ],
   "source": [
    "! echo %cd%"
   ]
  },
  {
   "cell_type": "code",
   "execution_count": 15,
   "metadata": {},
   "outputs": [
    {
     "name": "stdout",
     "output_type": "stream",
     "text": [
      " Volume in drive C has no label.\n",
      " Volume Serial Number is 7895-D27C\n",
      "\n",
      " Directory of C:\\Users\\simon.garisch\\Desktop\\git\\node.js-web-development\n",
      "\n",
      "04/07/2018  08:14 AM    <DIR>          .\n",
      "04/07/2018  08:14 AM    <DIR>          ..\n",
      "03/07/2018  08:06 AM    <DIR>          .ipynb_checkpoints\n",
      "03/07/2018  07:43 AM             2,746 1 About Node.js.ipynb\n",
      "03/07/2018  07:43 AM            64,578 2 Setting up node.ipynb\n",
      "03/07/2018  08:04 AM            27,377 3 Node.js Modules.ipynb\n",
      "04/07/2018  08:14 AM            22,324 4 HTTP Servers and Clients.ipynb\n",
      "04/07/2018  07:59 AM    <DIR>          fibonacci\n",
      "03/07/2018  07:43 AM               100 module1.js\n",
      "03/07/2018  07:43 AM               191 module2.js\n",
      "04/07/2018  08:07 AM    <DIR>          myapp\n",
      "03/07/2018  07:43 AM                33 nodeFile.js\n",
      "03/07/2018  07:43 AM    <DIR>          parentDirModule\n",
      "29/06/2018  08:28 AM                81 README.md\n",
      "03/07/2018  07:43 AM                66 testModules.js\n",
      "               9 File(s)        117,496 bytes\n",
      "               6 Dir(s)  123,136,090,112 bytes free\n"
     ]
    }
   ],
   "source": [
    "! dir"
   ]
  },
  {
   "cell_type": "code",
   "execution_count": 20,
   "metadata": {
    "collapsed": true
   },
   "outputs": [],
   "source": [
    "! cd myapp"
   ]
  },
  {
   "cell_type": "code",
   "execution_count": 21,
   "metadata": {},
   "outputs": [
    {
     "name": "stdout",
     "output_type": "stream",
     "text": [
      "C:\\Users\\simon.garisch\\Desktop\\git\\node.js-web-development\n"
     ]
    }
   ],
   "source": [
    "! echo %cd%"
   ]
  },
  {
   "cell_type": "code",
   "execution_count": 16,
   "metadata": {},
   "outputs": [
    {
     "name": "stdout",
     "output_type": "stream",
     "text": [
      "up to date in 1.123s\n"
     ]
    },
    {
     "name": "stderr",
     "output_type": "stream",
     "text": [
      "npm WARN saveError ENOENT: no such file or directory, open 'C:\\Users\\simon.garisch\\package.json'\n",
      "npm WARN enoent ENOENT: no such file or directory, open 'C:\\Users\\simon.garisch\\package.json'\n",
      "npm WARN simon.garisch No description\n",
      "npm WARN simon.garisch No repository field.\n",
      "npm WARN simon.garisch No README data\n",
      "npm WARN simon.garisch No license field.\n",
      "\n"
     ]
    }
   ],
   "source": [
    "! npm install"
   ]
  },
  {
   "cell_type": "code",
   "execution_count": 22,
   "metadata": {},
   "outputs": [
    {
     "name": "stderr",
     "output_type": "stream",
     "text": [
      "npm ERR! path C:\\Users\\simon.garisch\\package.json\n",
      "npm ERR! code ENOENT\n",
      "npm ERR! errno -4058\n",
      "npm ERR! syscall open\n",
      "npm ERR! enoent ENOENT: no such file or directory, open 'C:\\Users\\simon.garisch\\package.json'\n",
      "npm ERR! enoent This is related to npm not being able to find a file.\n",
      "npm ERR! enoent \n",
      "\n",
      "npm ERR! A complete log of this run can be found in:\n",
      "npm ERR!     C:\\Users\\simon.garisch\\AppData\\Roaming\\npm-cache\\_logs\\2018-07-03T22_19_11_983Z-debug.log\n"
     ]
    }
   ],
   "source": [
    "! SET DEBUG=myapp:* & npm start"
   ]
  },
  {
   "cell_type": "markdown",
   "metadata": {},
   "source": [
    "It'll work if you run these from the command line rather than notebook cells. After running these:"
   ]
  },
  {
   "cell_type": "markdown",
   "metadata": {},
   "source": [
    "Express Welcome to Express"
   ]
  },
  {
   "cell_type": "markdown",
   "metadata": {},
   "source": [
    "## Walking through the default Express application\n",
    "There are a number of files that were automatically created for us..."
   ]
  },
  {
   "cell_type": "code",
   "execution_count": 1,
   "metadata": {},
   "outputs": [
    {
     "name": "stdout",
     "output_type": "stream",
     "text": [
      "app.js\n",
      "bin\n",
      "node_modules\n",
      "package-lock.json\n",
      "package.json\n",
      "public\n",
      "routes\n",
      "views\n"
     ]
    }
   ],
   "source": [
    "var testFolder = './myapp/';\n",
    "var fs = require('fs');\n",
    "\n",
    "fs.readdir(testFolder, (err, files) => {\n",
    "  files.forEach(file => {\n",
    "    console.log(file);\n",
    "  });\n",
    "})"
   ]
  },
  {
   "cell_type": "markdown",
   "metadata": {},
   "source": [
    "## Calculating the Fibonacci sequence with an Express application\n"
   ]
  },
  {
   "cell_type": "code",
   "execution_count": 2,
   "metadata": {
    "collapsed": true
   },
   "outputs": [],
   "source": [
    "var fs = require('fs-extra') // got some extra file system functionality here"
   ]
  },
  {
   "cell_type": "code",
   "execution_count": 3,
   "metadata": {
    "collapsed": true
   },
   "outputs": [],
   "source": [
    "fs.removeSync('myappModified'); // remove the folder synchronously if it exists"
   ]
  },
  {
   "cell_type": "code",
   "execution_count": null,
   "metadata": {
    "collapsed": true
   },
   "outputs": [],
   "source": [
    "fs.copySync('myapp','myappModified'); // copy over myapp to myappModified so that we can work on it"
   ]
  },
  {
   "cell_type": "markdown",
   "metadata": {},
   "source": [
    "Once the default express app has been copied we can start working on the modified version. Either that or manually copy it over. Now to modify:"
   ]
  },
  {
   "cell_type": "code",
   "execution_count": 5,
   "metadata": {},
   "outputs": [
    {
     "name": "stdout",
     "output_type": "stream",
     "text": [
      "true\n"
     ]
    }
   ],
   "source": [
    "var fs = require('fs-extra');\n",
    "path = './myappModified/app.js';\n",
    "console.log(fs.existsSync(path));"
   ]
  },
  {
   "cell_type": "code",
   "execution_count": 6,
   "metadata": {
    "collapsed": true
   },
   "outputs": [],
   "source": [
    "// https://www.devdungeon.com/content/working-files-javascript-nodejs\n",
    "// https://stackoverflow.com/questions/14177087/replace-a-string-in-a-file-with-nodejs\n",
    "// npm install replace-in-file\n",
    "\n",
    "var replace = require('replace-in-file');\n",
    "\n",
    "var options1 = { // our first replacement\n",
    "\n",
    "  //Single file\n",
    "  files: './myappModified/app.js',\n",
    "\n",
    "  //Replacement to make (string or regex) \n",
    "  from: \"var usersRouter = require('./routes/users');\",\n",
    "  to: \"var fibonacci = require('./routes/fibonacci');\",\n",
    "};\n",
    "\n",
    "var options2 = { // our second replacement\n",
    "  files: './myappModified/app.js',\n",
    "  from: \"app.use('/users', usersRouter);\",\n",
    "  to: \"app.use('/fibonacci', fibonacci);\",\n",
    "};"
   ]
  },
  {
   "cell_type": "code",
   "execution_count": 7,
   "metadata": {},
   "outputs": [],
   "source": [
    "try {\n",
    "  let changedFiles = replace.sync(options1);\n",
    "}\n",
    "catch (error) {\n",
    "  console.error('Error occurred:', error);\n",
    "}"
   ]
  },
  {
   "cell_type": "code",
   "execution_count": 8,
   "metadata": {
    "collapsed": true
   },
   "outputs": [],
   "source": [
    "try {\n",
    "  let changedFiles = replace.sync(options2);\n",
    "}\n",
    "catch (error) {\n",
    "  console.error('Error occurred:', error);\n",
    "}"
   ]
  },
  {
   "cell_type": "markdown",
   "metadata": {},
   "source": [
    "We should now have the app.js file changed as required. We'll write to a file sync called math.js"
   ]
  },
  {
   "cell_type": "code",
   "execution_count": 9,
   "metadata": {
    "collapsed": true
   },
   "outputs": [],
   "source": [
    "var fs = require('fs');\n",
    "var code = `\n",
    "var fibonacci = exports.fibonacci = function(n) {\n",
    " if (n === 1) return 1;\n",
    " else if (n === 2) return 1;\n",
    " else return fibonacci(n-1) + fibonacci(n-2);\n",
    "}\n",
    "`\n",
    "fs.writeFileSync('./myappModified/math.js', code);"
   ]
  },
  {
   "cell_type": "markdown",
   "metadata": {},
   "source": [
    "In the views directory, create a file named top.ejs:"
   ]
  },
  {
   "cell_type": "code",
   "execution_count": 10,
   "metadata": {
    "collapsed": true
   },
   "outputs": [],
   "source": [
    "var fs = require('fs');\n",
    "var code = `\n",
    "<html>\n",
    "<head>\n",
    " <title><%= title %></title>\n",
    " <link rel='stylesheet' href='/stylesheets/style.css' />\n",
    "</head>\n",
    "<body>\n",
    " <h1><%= title %></h1>\n",
    " <div class='navbar'>\n",
    " <p><a href='/'>home</a>\n",
    " | <a href='/fibonacci'>Fibonacci's</a></p>\n",
    " </div>\n",
    "`\n",
    "fs.writeFileSync('./myappModified/views/top.ejs', code);"
   ]
  },
  {
   "cell_type": "markdown",
   "metadata": {},
   "source": [
    "Another file named bottom.ejs:"
   ]
  },
  {
   "cell_type": "code",
   "execution_count": 11,
   "metadata": {
    "collapsed": true
   },
   "outputs": [],
   "source": [
    "var code = `\n",
    "</body>\n",
    "</html>\n",
    "`\n",
    "fs.writeFileSync('./myappModified/views/bottom.ejs', code);"
   ]
  },
  {
   "cell_type": "code",
   "execution_count": 12,
   "metadata": {
    "collapsed": true
   },
   "outputs": [],
   "source": [
    "var code = `\n",
    "<% include top %>\n",
    "<p>Welcome to the Math calculator</p>\n",
    "<% include bottom %>\n",
    "`\n",
    "fs.writeFileSync('./myappModified/views/index.ejs', code);"
   ]
  },
  {
   "cell_type": "code",
   "execution_count": 14,
   "metadata": {
    "collapsed": true
   },
   "outputs": [],
   "source": [
    "var code = `\n",
    "<% include top %>\n",
    "<% if (typeof fiboval !== \"undefined\") { %>\n",
    " <p>Fibonacci for <%= fibonum %> is <%= fiboval %></p>\n",
    " <hr/>\n",
    "<% } %>\n",
    "<p>Enter a number to see its' Fibonacci number</p>\n",
    "<form name='fibonacci' action='/fibonacci' method='get'>\n",
    "<input type='text' name='fibonum' />\n",
    "<input type='submit' value='Submit' />\n",
    "</form>\n",
    "<% include bottom %>\n",
    "`\n",
    "fs.writeFileSync('./myappModified/views/fibonacci.ejs', code);"
   ]
  },
  {
   "cell_type": "markdown",
   "metadata": {},
   "source": [
    "In the routes directory, delete the user.js module. It is generated by the Express framework, but we will not use it in this application"
   ]
  },
  {
   "cell_type": "code",
   "execution_count": null,
   "metadata": {
    "collapsed": true
   },
   "outputs": [],
   "source": [
    "// check the ejs vs pug format... you may have to start the app template again pg 81"
   ]
  }
 ],
 "metadata": {
  "kernelspec": {
   "display_name": "Javascript (Node.js)",
   "language": "javascript",
   "name": "javascript"
  },
  "language_info": {
   "file_extension": ".js",
   "mimetype": "application/javascript",
   "name": "javascript",
   "version": "8.9.3"
  }
 },
 "nbformat": 4,
 "nbformat_minor": 2
}
