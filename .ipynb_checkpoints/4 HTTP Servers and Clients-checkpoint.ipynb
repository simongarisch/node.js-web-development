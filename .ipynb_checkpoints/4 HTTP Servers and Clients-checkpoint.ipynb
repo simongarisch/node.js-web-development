{
 "cells": [
  {
   "cell_type": "markdown",
   "metadata": {},
   "source": [
    "## HTTP Servers and Clients"
   ]
  },
  {
   "cell_type": "code",
   "execution_count": 2,
   "metadata": {},
   "outputs": [
    {
     "name": "stdout",
     "output_type": "stream",
     "text": [
      "Pixiedust database opened successfully\n"
     ]
    },
    {
     "data": {
      "text/html": [
       "\n",
       "        <div style=\"margin:10px\">\n",
       "            <a href=\"https://github.com/ibm-watson-data-lab/pixiedust\" target=\"_new\">\n",
       "                <img src=\"https://github.com/ibm-watson-data-lab/pixiedust/raw/master/docs/_static/pd_icon32.png\" style=\"float:left;margin-right:10px\"/>\n",
       "            </a>\n",
       "            <span>Pixiedust version 1.1.11</span>\n",
       "        </div>\n",
       "        "
      ],
      "text/plain": [
       "<IPython.core.display.HTML object>"
      ]
     },
     "metadata": {},
     "output_type": "display_data"
    },
    {
     "data": {
      "text/html": [
       "\n",
       "            <div style=\"margin:10px\"> \n",
       "            <a href=\"https://github.com/ibm-cds-labs/pixiedust_node\" target=\"_new\"> \n",
       "            <img src=\"https://github.com/ibm-cds-labs/pixiedust_node/raw/master/docs/_images/pdn_icon32.png\" style=\"float:left;margin-right:10px\"/> \n",
       "            </a> \n",
       "            <span>Pixiedust Node.js</span> \n",
       "            </div> \n"
      ],
      "text/plain": [
       "<IPython.core.display.HTML object>"
      ]
     },
     "metadata": {},
     "output_type": "display_data"
    }
   ],
   "source": [
    "import pixiedust_node"
   ]
  },
  {
   "cell_type": "markdown",
   "metadata": {},
   "source": [
    "## Sending and receiving events with EventEmitters\n",
    "EventEmitters are one of the core idioms of Node.js. Many of the core modules are EventEmitters, and also EventEmitters make an excellent skeleton to implement asynchronous programming. In this chapter, we'll work with the HTTPServer and HTTPClient objects. Both of them are subclasses of EventEmitter and rely on it to send events for each step of the HTTP protocol. "
   ]
  },
  {
   "cell_type": "code",
   "execution_count": 2,
   "metadata": {},
   "outputs": [
    {
     "name": "stdout",
     "output_type": "stream",
     "text": [
      "pixiedust_node 0.2.5 started. Cells starting '%%node' may contain Node.js code.\n",
      "... ...\n",
      "... ..... ..... ..... ..... ...\n"
     ]
    }
   ],
   "source": [
    "%%node\n",
    "// this defines a Pulser class\n",
    "\n",
    "var events = require('events');\n",
    "var util = require('util');\n",
    "\n",
    "// Define the Pulser object\n",
    "function Pulser() {\n",
    " events.EventEmitter.call(this);\n",
    "}\n",
    "\n",
    "util.inherits(Pulser, events.EventEmitter);\n",
    "\n",
    "Pulser.prototype.start = function() {\n",
    " setInterval(() => {\n",
    " util.log('>>>> pulse');\n",
    " this.emit('pulse');\n",
    " util.log('<<<< pulse');\n",
    " }, 1000);\n",
    "};"
   ]
  },
  {
   "cell_type": "markdown",
   "metadata": {},
   "source": [
    "This defines a Pulser class, which inherits from EventEmitter (using util.inherits). Its purpose is to send timed events, once a second, to any listeners. "
   ]
  },
  {
   "cell_type": "code",
   "execution_count": 3,
   "metadata": {},
   "outputs": [
    {
     "name": "stdout",
     "output_type": "stream",
     "text": [
      "... ...\n",
      "3 Jul 08:14:58 - >>>> pulse\n",
      "3 Jul 08:14:58 - pulse received\n",
      "3 Jul 08:14:58 - <<<< pulse\n",
      "3 Jul 08:14:59 - >>>> pulse\n",
      "3 Jul 08:14:59 - pulse received\n",
      "3 Jul 08:14:59 - <<<< pulse\n",
      "3 Jul 08:15:00 - >>>> pulse\n",
      "3 Jul 08:15:00 - pulse received\n",
      "3 Jul 08:15:00 - <<<< pulse\n",
      "3 Jul 08:15:01 - >>>> pulse\n",
      "3 Jul 08:15:01 - pulse received\n",
      "3 Jul 08:15:01 - <<<< pulse\n"
     ]
    }
   ],
   "source": [
    "%%node\n",
    "// Instantiate a Pulser object\n",
    "var pulser = new Pulser();\n",
    "// Handler function\n",
    "pulser.on('pulse', () => {\n",
    " util.log('pulse received');\n",
    "});\n",
    "// Start it pulsing\n",
    "pulser.start();"
   ]
  },
  {
   "cell_type": "markdown",
   "metadata": {},
   "source": [
    "Here is an example from tutorials point..."
   ]
  },
  {
   "cell_type": "code",
   "execution_count": 3,
   "metadata": {},
   "outputs": [
    {
     "name": "stdout",
     "output_type": "stream",
     "text": [
      "pixiedust_node 0.2.5 started. Cells starting '%%node' may contain Node.js code.\n",
      "... ...\n",
      "... ...\n",
      "function (emitter, type) {\n",
      "if (typeof emitter.listenerCount === 'function') {\n",
      "return emitter.listenerCount(type);\n",
      "} else {\n",
      "return listenerCount.call(emitter, type);\n",
      "}\n",
      "} Listner(s) listening to connection event\n",
      "listner1 executed.\n",
      "listner2 executed.\n",
      "Listner1 will not listen now.\n",
      "listner2 executed.\n",
      "1 Listner(s) listening to connection event\n",
      "Program Ended.\n"
     ]
    }
   ],
   "source": [
    "%%node\n",
    "// https://www.tutorialspoint.com/nodejs/nodejs_event_emitter.htm\n",
    "    \n",
    "var events = require('events');\n",
    "var eventEmitter = new events.EventEmitter();\n",
    "\n",
    "// listener #1\n",
    "var listner1 = function listner1() {\n",
    "   console.log('listner1 executed.');\n",
    "}\n",
    "\n",
    "// listener #2\n",
    "var listner2 = function listner2() {\n",
    "  console.log('listner2 executed.');\n",
    "}\n",
    "\n",
    "// Bind the connection event with the listner1 function\n",
    "eventEmitter.addListener('connection', listner1);\n",
    "\n",
    "// Bind the connection event with the listner2 function\n",
    "eventEmitter.on('connection', listner2);\n",
    "\n",
    "var eventListeners = require('events').EventEmitter.listenerCount\n",
    "   (eventEmitter,'connection');\n",
    "console.log(eventListeners + \" Listner(s) listening to connection event\");\n",
    "\n",
    "// Fire the connection event \n",
    "eventEmitter.emit('connection');\n",
    "\n",
    "// Remove the binding of listner1 function\n",
    "eventEmitter.removeListener('connection', listner1);\n",
    "console.log(\"Listner1 will not listen now.\");\n",
    "\n",
    "// Fire the connection event \n",
    "eventEmitter.emit('connection');\n",
    "\n",
    "eventListeners = require('events').EventEmitter.listenerCount(eventEmitter,'connection');\n",
    "console.log(eventListeners + \" Listner(s) listening to connection event\");\n",
    "\n",
    "console.log(\"Program Ended.\");"
   ]
  },
  {
   "cell_type": "code",
   "execution_count": null,
   "metadata": {
    "collapsed": true
   },
   "outputs": [],
   "source": []
  }
 ],
 "metadata": {
  "kernelspec": {
   "display_name": "Python 2",
   "language": "python",
   "name": "python2"
  },
  "language_info": {
   "codemirror_mode": {
    "name": "ipython",
    "version": 2
   },
   "file_extension": ".py",
   "mimetype": "text/x-python",
   "name": "python",
   "nbconvert_exporter": "python",
   "pygments_lexer": "ipython2",
   "version": "2.7.14"
  }
 },
 "nbformat": 4,
 "nbformat_minor": 2
}
