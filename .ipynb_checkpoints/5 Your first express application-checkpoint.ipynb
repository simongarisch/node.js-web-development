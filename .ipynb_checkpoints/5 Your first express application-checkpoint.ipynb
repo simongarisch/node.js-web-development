{
 "cells": [
  {
   "cell_type": "markdown",
   "metadata": {},
   "source": [
    "## Your first express application\n",
    "The application we'll build will keep a list of notes, and it will let us explore some aspects of a real application. A quick note on the promise class... It has one large advantage in avoiding the so-called Pyramid of Doom that's inevitable with\n",
    "deeply nested callback functions. While the callback function approach to asynchronous programming has proved to be extremely flexible, we recognize there's a problem: the Pyramid of Doom. It's named after the shape the code takes after a few layers of nesting. Any multistage process can quickly escalate to code nested 15 levels deep."
   ]
  },
  {
   "cell_type": "markdown",
   "metadata": {},
   "source": [
    "Here are some basic functions..."
   ]
  },
  {
   "cell_type": "code",
   "execution_count": 2,
   "metadata": {},
   "outputs": [
    {
     "name": "stdout",
     "output_type": "stream",
     "text": [
      "1. First thing calling Second thing\n",
      "2. Second thing\n"
     ]
    }
   ],
   "source": [
    "// examples taken from https://codereview.stackexchange.com/questions/146095/example-of-callback-hell\n",
    "function one() {\n",
    "  setTimeout(function() {\n",
    "    console.log('1. First thing calling Second thing');\n",
    "    two();\n",
    "  }, 2000);\n",
    "};\n",
    "\n",
    "function two() {\n",
    "  console.log('2. Second thing');\n",
    "}\n",
    "\n",
    "one()"
   ]
  },
  {
   "cell_type": "markdown",
   "metadata": {},
   "source": [
    "A nested example which can be seen as callback hell..."
   ]
  },
  {
   "cell_type": "code",
   "execution_count": 4,
   "metadata": {},
   "outputs": [
    {
     "name": "stdout",
     "output_type": "stream",
     "text": [
      "1. First thing setting up second thing\n",
      "2. Second thing setting up third thing\n",
      "3. Third thing setting up fourth thing\n",
      "4. Fourth thing\n"
     ]
    }
   ],
   "source": [
    "function one() {\n",
    "  setTimeout(function() {\n",
    "    console.log('1. First thing setting up second thing');\n",
    "    setTimeout(function() {\n",
    "      console.log('2. Second thing setting up third thing');\n",
    "      setTimeout(function() {\n",
    "        console.log('3. Third thing setting up fourth thing');\n",
    "        setTimeout(function() {\n",
    "          console.log('4. Fourth thing');\n",
    "        }, 2000);\n",
    "      }, 2000);\n",
    "    }, 2000);\n",
    "  }, 2000);\n",
    "};\n",
    "\n",
    "one()"
   ]
  },
  {
   "cell_type": "markdown",
   "metadata": {},
   "source": [
    "Where the \"hell\" expresses itself in the form of a big triangle of whitespace along the left margin. You'd typically see this with API functions that take an \"on success\" callback and/or an \"on failure\" callback. http://callbackhell.com/ also has some good examples."
   ]
  },
  {
   "cell_type": "markdown",
   "metadata": {},
   "source": [
    "Now what is a Promise class?... Promises were introduced to reduce the complexity of Asynchronous JavaScript code. A Promise is a proxy for a value not necessarily known when the promise is created. It allows you to associate handlers to an asynchronous action's eventual success value or failure reason."
   ]
  },
  {
   "cell_type": "code",
   "execution_count": 6,
   "metadata": {},
   "outputs": [
    {
     "name": "stdout",
     "output_type": "stream",
     "text": [
      "Promise { <pending> }\n"
     ]
    }
   ],
   "source": [
    "var promise1 = new Promise(function(resolve, reject) {\n",
    "  setTimeout(resolve, 100, 'foo');\n",
    "});\n",
    "\n",
    "console.log(promise1);"
   ]
  },
  {
   "cell_type": "code",
   "execution_count": 10,
   "metadata": {},
   "outputs": [
    {
     "ename": "Error",
     "evalue": "Cannot find module 'request'",
     "output_type": "error",
     "traceback": [
      "module.js:538",
      "    throw err;",
      "    ^",
      "",
      "Error: Cannot find module 'request'",
      "    at Function.Module._resolveFilename (module.js:536:15)",
      "    at Function.Module._load (module.js:466:25)",
      "    at Module.require (module.js:579:17)",
      "    at require (internal/module.js:11:18)",
      "    at evalmachine.<anonymous>:2:15",
      "    at ContextifyScript.Script.runInThisContext (vm.js:50:33)",
      "    at Object.runInThisContext (vm.js:139:38)",
      "    at run ([eval]:1002:15)",
      "    at onRunRequest ([eval]:829:18)",
      "    at onMessage ([eval]:789:13)"
     ]
    }
   ],
   "source": [
    "// example from https://medium.com/dev-bits/writing-neat-asynchronous-node-js-code-with-promises-32ed3a4fd098\n",
    "var request = require('request');\n",
    "var userDetails;\n",
    "function initialize() {\n",
    "    // Setting URL and headers for request\n",
    "    var options = {\n",
    "        url: 'https://api.github.com/users/narenaryan',\n",
    "        headers: {\n",
    "            'User-Agent': 'request'\n",
    "        }\n",
    "    };\n",
    "    // Return new promise \n",
    "    return new Promise(function(resolve, reject) {\n",
    "     // Do async job\n",
    "        request.get(options, function(err, resp, body) {\n",
    "            if (err) {\n",
    "                reject(err);\n",
    "            } else {\n",
    "                resolve(JSON.parse(body));\n",
    "            }\n",
    "        })\n",
    "    })\n",
    "}\n",
    "\n",
    "initialize()"
   ]
  },
  {
   "cell_type": "code",
   "execution_count": null,
   "metadata": {
    "collapsed": true
   },
   "outputs": [],
   "source": []
  }
 ],
 "metadata": {
  "kernelspec": {
   "display_name": "Javascript (Node.js)",
   "language": "javascript",
   "name": "javascript"
  },
  "language_info": {
   "file_extension": ".js",
   "mimetype": "application/javascript",
   "name": "javascript",
   "version": "8.9.3"
  }
 },
 "nbformat": 4,
 "nbformat_minor": 2
}
