{
 "cells": [
  {
   "cell_type": "markdown",
   "metadata": {},
   "source": [
    "## About Node.js\n",
    "One benchmark going around is this simple HTTP server (borrowed from https://nodejs.org/en/), which simply returns a \"Hello World\" message directly from memory:"
   ]
  },
  {
   "cell_type": "code",
   "execution_count": 1,
   "metadata": {
    "collapsed": false
   },
   "outputs": [
    {
     "name": "stdout",
     "output_type": "stream",
     "text": [
      "Server running at http://127.0.0.1:8124/\n"
     ]
    }
   ],
   "source": [
    "var http = require('http');\n",
    "http.createServer(function (req, res) {\n",
    "  res.writeHead(200, {'Content-Type': 'text/plain'});\n",
    "  res.end('Hello World\\n');\n",
    "}).listen(8124, \"127.0.0.1\");\n",
    "\n",
    "console.log('Server running at http://127.0.0.1:8124/');"
   ]
  },
  {
   "cell_type": "markdown",
   "metadata": {},
   "source": [
    "LinkedIn did a massive overhaul of their mobile app using Node.js for the serverside to replace an old Ruby on Rails app. The switch let them move from 30 servers down to three, and allowed them to merge the frontend and backend team because everything was written in JavaScript. Before choosing Node.js, they'd evaluated Rails with Event Machine, Python with Twisted, and Node.js, choosing Node.js for the reasons that we just discussed."
   ]
  },
  {
   "cell_type": "code",
   "execution_count": 24,
   "metadata": {
    "collapsed": false
   },
   "outputs": [
    {
     "data": {
      "text/plain": [
       "5"
      ]
     },
     "execution_count": 24,
     "metadata": {},
     "output_type": "execute_result"
    }
   ],
   "source": [
    "var fibonacci = function(n) {\n",
    "  if (n === 1 || n === 2)\n",
    "    return 1;\n",
    "  else\n",
    "    return fibonacci(n-1) + fibonacci(n-2);\n",
    "}\n",
    "\n",
    "fibonacci(5)"
   ]
  },
  {
   "cell_type": "markdown",
   "metadata": {},
   "source": [
    "For some project examples in node.js see:\n",
    "* https://github.com/sqreen/awesome-nodejs-projects\n",
    "* https://www.quora.com/What-are-some-awesome-node-js-project-exampleshttps://www.quora.com/What-are-some-awesome-node-js-project-examples\n",
    "* https://thinkmobiles.com/blog/node-js-app-examples/"
   ]
  }
 ],
 "metadata": {
  "anaconda-cloud": {},
  "kernelspec": {
   "display_name": "Javascript (Node.js)",
   "language": "javascript",
   "name": "javascript"
  },
  "language_info": {
   "file_extension": ".js",
   "mimetype": "application/javascript",
   "name": "javascript",
   "version": "8.9.1"
  }
 },
 "nbformat": 4,
 "nbformat_minor": 1
}
