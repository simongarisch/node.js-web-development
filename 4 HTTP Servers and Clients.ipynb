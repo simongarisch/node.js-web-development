{
 "cells": [
  {
   "cell_type": "markdown",
   "metadata": {},
   "source": [
    "## HTTP Servers and Clients"
   ]
  },
  {
   "cell_type": "markdown",
   "metadata": {},
   "source": [
    "## Sending and receiving events with EventEmitters\n",
    "EventEmitters are one of the core idioms of Node.js. Many of the core modules are EventEmitters, and also EventEmitters make an excellent skeleton to implement asynchronous programming. In this chapter, we'll work with the HTTPServer and HTTPClient objects. Both of them are subclasses of EventEmitter and rely on it to send events for each step of the HTTP protocol. "
   ]
  },
  {
   "cell_type": "code",
   "execution_count": 1,
   "metadata": {},
   "outputs": [
    {
     "data": {
      "text/plain": [
       "[Function]"
      ]
     },
     "execution_count": 1,
     "metadata": {},
     "output_type": "execute_result"
    }
   ],
   "source": [
    "// this defines a Pulser class\n",
    "\n",
    "var events = require('events');\n",
    "var util = require('util');\n",
    "\n",
    "// Define the Pulser object\n",
    "function Pulser() {\n",
    " events.EventEmitter.call(this);\n",
    "}\n",
    "\n",
    "util.inherits(Pulser, events.EventEmitter);\n",
    "\n",
    "Pulser.prototype.start = function() {\n",
    " setInterval(() => {\n",
    " util.log('>>>> pulse');\n",
    " this.emit('pulse');\n",
    " util.log('<<<< pulse');\n",
    " }, 1000);\n",
    "};"
   ]
  },
  {
   "cell_type": "markdown",
   "metadata": {},
   "source": [
    "This defines a Pulser class, which inherits from EventEmitter (using util.inherits). Its purpose is to send timed events, once a second, to any listeners. "
   ]
  },
  {
   "cell_type": "code",
   "execution_count": 2,
   "metadata": {},
   "outputs": [
    {
     "name": "stdout",
     "output_type": "stream",
     "text": [
      "3 Jul 19:33:50 - >>>> pulse\n",
      "3 Jul 19:33:50 - pulse received\n",
      "3 Jul 19:33:50 - <<<< pulse\n",
      "3 Jul 19:33:51 - >>>> pulse\n",
      "3 Jul 19:33:51 - pulse received\n",
      "3 Jul 19:33:51 - <<<< pulse\n",
      "3 Jul 19:33:52 - >>>> pulse\n",
      "3 Jul 19:33:52 - pulse received\n",
      "3 Jul 19:33:52 - <<<< pulse\n",
      "3 Jul 19:33:53 - >>>> pulse\n",
      "3 Jul 19:33:53 - pulse received\n",
      "3 Jul 19:33:53 - <<<< pulse\n",
      "3 Jul 19:33:54 - >>>> pulse\n",
      "3 Jul 19:33:54 - pulse received\n",
      "3 Jul 19:33:54 - <<<< pulse\n",
      "3 Jul 19:33:55 - >>>> pulse\n",
      "3 Jul 19:33:55 - pulse received\n",
      "3 Jul 19:33:55 - <<<< pulse\n"
     ]
    }
   ],
   "source": [
    "// Instantiate a Pulser object\n",
    "var pulser = new Pulser();\n",
    "\n",
    "// Handler function\n",
    "pulser.on('pulse', () => {\n",
    " util.log('pulse received');\n",
    "});\n",
    "\n",
    "// Start it pulsing\n",
    "pulser.start();"
   ]
  },
  {
   "cell_type": "markdown",
   "metadata": {},
   "source": [
    "Here is an example from tutorials point..."
   ]
  },
  {
   "cell_type": "code",
   "execution_count": 1,
   "metadata": {},
   "outputs": [
    {
     "name": "stdout",
     "output_type": "stream",
     "text": [
      "2 Listner(s) listening to connection event\n",
      "listner1 executed.\n",
      "listner2 executed.\n",
      "Listner1 will not listen now.\n",
      "listner2 executed.\n",
      "1 Listner(s) listening to connection event\n",
      "Program Ended.\n"
     ]
    }
   ],
   "source": [
    "// https://www.tutorialspoint.com/nodejs/nodejs_event_emitter.htm\n",
    "    \n",
    "var events = require('events');\n",
    "var eventEmitter = new events.EventEmitter();\n",
    "\n",
    "// listener #1\n",
    "var listner1 = function listner1() {\n",
    "   console.log('listner1 executed.');\n",
    "}\n",
    "\n",
    "// listener #2\n",
    "var listner2 = function listner2() {\n",
    "  console.log('listner2 executed.');\n",
    "}\n",
    "\n",
    "// Bind the connection event with the listner1 function\n",
    "eventEmitter.addListener('connection', listner1);\n",
    "\n",
    "// Bind the connection event with the listner2 function\n",
    "eventEmitter.on('connection', listner2);\n",
    "\n",
    "var eventListeners = require('events').EventEmitter.listenerCount(eventEmitter,'connection');\n",
    "console.log(eventListeners + \" Listner(s) listening to connection event\");\n",
    "\n",
    "// Fire the connection event \n",
    "eventEmitter.emit('connection');\n",
    "\n",
    "// Remove the binding of listner1 function\n",
    "eventEmitter.removeListener('connection', listner1);\n",
    "console.log(\"Listner1 will not listen now.\");\n",
    "\n",
    "// Fire the connection event \n",
    "eventEmitter.emit('connection');\n",
    "\n",
    "eventListeners = require('events').EventEmitter.listenerCount(eventEmitter,'connection');\n",
    "console.log(eventListeners + \" Listner(s) listening to connection event\");\n",
    "\n",
    "console.log(\"Program Ended.\");"
   ]
  },
  {
   "cell_type": "markdown",
   "metadata": {
    "collapsed": true
   },
   "source": [
    "The EventEmitter event has many names, and it can be anything that makes sense to you. You can define as many event names as you like. Event names are defined simply by calling .emit with the event name."
   ]
  },
  {
   "cell_type": "markdown",
   "metadata": {},
   "source": [
    "## HTTP server applications\n",
    "In most cases, you'll be able to use an application framework such as Express that hides the HTTP protocol details, allowing the programmer to focus on business logic. We already saw a simple HTTP server application:"
   ]
  },
  {
   "cell_type": "code",
   "execution_count": 2,
   "metadata": {},
   "outputs": [
    {
     "name": "stdout",
     "output_type": "stream",
     "text": [
      "Server running at http://127.0.0.1:8124\n"
     ]
    }
   ],
   "source": [
    "var http = require('http');\n",
    "http.createServer((req, res) => {\n",
    " res.writeHead(200, {'Content-Type': 'text/plain'});\n",
    " res.end('Hello, World!\\n');\n",
    "}).listen(8124, '127.0.0.1');\n",
    "\n",
    "console.log('Server running at http://127.0.0.1:8124');"
   ]
  },
  {
   "cell_type": "markdown",
   "metadata": {},
   "source": [
    "Now, let's look at something more interesting with different actions based on the URL."
   ]
  },
  {
   "cell_type": "code",
   "execution_count": 3,
   "metadata": {},
   "outputs": [
    {
     "name": "stdout",
     "output_type": "stream",
     "text": [
      "listening to http://localhost:8124\n"
     ]
    },
    {
     "name": "stderr",
     "output_type": "stream",
     "text": [
      "(node:11088) [DEP0022] DeprecationWarning: os.tmpDir() is deprecated. Use os.tmpdir() instead.\n"
     ]
    }
   ],
   "source": [
    "var http = require('http');\n",
    "var util = require('util');\n",
    "var url = require('url');\n",
    "var os = require('os');\n",
    "var server = http.createServer();\n",
    "server.on('request', (req, res) => {\n",
    " var requrl = url.parse(req.url, true);\n",
    " if (requrl.pathname === '/') {\n",
    " res.writeHead(200, {'Content-Type': 'text/html'});\n",
    " res.end(\n",
    "`<html><head><title>Hello, world!</title></head>\n",
    "<body><h1>Hello, world!</h1>\n",
    "<p><a href='/osinfo'>OS Info</a></p>\n",
    "</body></html>`);\n",
    " } else if (requrl.pathname === \"/osinfo\") {\n",
    " res.writeHead(200, {'Content-Type': 'text/html'});\n",
    " res.end(\n",
    "`<html><head><title>Operating System Info</title></head>\n",
    "<body><h1>Operating System Info</h1>\n",
    "<table>\n",
    "<tr><th>TMP Dir</th><td>${os.tmpDir()}</td></tr>\n",
    "<tr><th>Host Name</th><td>${os.hostname()}</td></tr>\n",
    "<tr><th>OS Type</th><td>${os.type()} ${os.platform()} ${os.arch()}\n",
    "${os.release()}</td></tr>\n",
    "<tr><th>Uptime</th><td>${os.uptime()} ${util.inspect(os.loadavg())}</\n",
    "td></tr>\n",
    "<tr><th>Memory</th><td>total: ${os.totalmem()} free: ${os.freemem()}</\n",
    "td></tr>\n",
    "<tr><th>CPU's</th><td><pre>${util.inspect(os.cpus())}</pre></td></tr>\n",
    "<tr><th>Network</th><td><pre>${util.inspect(os.networkInterfaces())}</\n",
    "pre></td></tr>\n",
    "</table>\n",
    "</body></html>`);\n",
    " } else {\n",
    " res.writeHead(404, {'Content-Type': 'text/plain'});\n",
    " res.end(\"bad URL \"+ req.url);\n",
    " }\n",
    "});\n",
    "server.listen(8124);\n",
    "\n",
    "console.log('listening to http://localhost:8124');"
   ]
  },
  {
   "cell_type": "markdown",
   "metadata": {
    "collapsed": true
   },
   "source": [
    "The real purpose of the template strings feature is supporting strings where we can easily substitute values directly into the string. Most other programming languages support this ability, and now JavaScript does too."
   ]
  },
  {
   "cell_type": "code",
   "execution_count": null,
   "metadata": {
    "collapsed": true
   },
   "outputs": [],
   "source": []
  }
 ],
 "metadata": {
  "kernelspec": {
   "display_name": "Javascript (Node.js)",
   "language": "javascript",
   "name": "javascript"
  },
  "language_info": {
   "file_extension": ".js",
   "mimetype": "application/javascript",
   "name": "javascript",
   "version": "8.9.3"
  }
 },
 "nbformat": 4,
 "nbformat_minor": 2
}
